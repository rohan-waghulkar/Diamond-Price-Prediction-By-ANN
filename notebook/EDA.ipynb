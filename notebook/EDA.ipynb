{
 "cells": [
  {
   "cell_type": "code",
   "execution_count": 3,
   "metadata": {},
   "outputs": [],
   "source": [
    "import pandas as pd\n",
    "import numpy as np"
   ]
  },
  {
   "cell_type": "code",
   "execution_count": 4,
   "metadata": {},
   "outputs": [],
   "source": [
    "df=pd.read_csv(\"data/gemstone.csv\")"
   ]
  },
  {
   "cell_type": "code",
   "execution_count": 5,
   "metadata": {},
   "outputs": [
    {
     "data": {
      "text/html": [
       "<div>\n",
       "<style scoped>\n",
       "    .dataframe tbody tr th:only-of-type {\n",
       "        vertical-align: middle;\n",
       "    }\n",
       "\n",
       "    .dataframe tbody tr th {\n",
       "        vertical-align: top;\n",
       "    }\n",
       "\n",
       "    .dataframe thead th {\n",
       "        text-align: right;\n",
       "    }\n",
       "</style>\n",
       "<table border=\"1\" class=\"dataframe\">\n",
       "  <thead>\n",
       "    <tr style=\"text-align: right;\">\n",
       "      <th></th>\n",
       "      <th>id</th>\n",
       "      <th>carat</th>\n",
       "      <th>cut</th>\n",
       "      <th>color</th>\n",
       "      <th>clarity</th>\n",
       "      <th>depth</th>\n",
       "      <th>table</th>\n",
       "      <th>x</th>\n",
       "      <th>y</th>\n",
       "      <th>z</th>\n",
       "      <th>price</th>\n",
       "    </tr>\n",
       "  </thead>\n",
       "  <tbody>\n",
       "    <tr>\n",
       "      <th>0</th>\n",
       "      <td>0</td>\n",
       "      <td>1.52</td>\n",
       "      <td>Premium</td>\n",
       "      <td>F</td>\n",
       "      <td>VS2</td>\n",
       "      <td>62.2</td>\n",
       "      <td>58.0</td>\n",
       "      <td>7.27</td>\n",
       "      <td>7.33</td>\n",
       "      <td>4.55</td>\n",
       "      <td>13619</td>\n",
       "    </tr>\n",
       "    <tr>\n",
       "      <th>1</th>\n",
       "      <td>1</td>\n",
       "      <td>2.03</td>\n",
       "      <td>Very Good</td>\n",
       "      <td>J</td>\n",
       "      <td>SI2</td>\n",
       "      <td>62.0</td>\n",
       "      <td>58.0</td>\n",
       "      <td>8.06</td>\n",
       "      <td>8.12</td>\n",
       "      <td>5.05</td>\n",
       "      <td>13387</td>\n",
       "    </tr>\n",
       "    <tr>\n",
       "      <th>2</th>\n",
       "      <td>2</td>\n",
       "      <td>0.70</td>\n",
       "      <td>Ideal</td>\n",
       "      <td>G</td>\n",
       "      <td>VS1</td>\n",
       "      <td>61.2</td>\n",
       "      <td>57.0</td>\n",
       "      <td>5.69</td>\n",
       "      <td>5.73</td>\n",
       "      <td>3.50</td>\n",
       "      <td>2772</td>\n",
       "    </tr>\n",
       "    <tr>\n",
       "      <th>3</th>\n",
       "      <td>3</td>\n",
       "      <td>0.32</td>\n",
       "      <td>Ideal</td>\n",
       "      <td>G</td>\n",
       "      <td>VS1</td>\n",
       "      <td>61.6</td>\n",
       "      <td>56.0</td>\n",
       "      <td>4.38</td>\n",
       "      <td>4.41</td>\n",
       "      <td>2.71</td>\n",
       "      <td>666</td>\n",
       "    </tr>\n",
       "    <tr>\n",
       "      <th>4</th>\n",
       "      <td>4</td>\n",
       "      <td>1.70</td>\n",
       "      <td>Premium</td>\n",
       "      <td>G</td>\n",
       "      <td>VS2</td>\n",
       "      <td>62.6</td>\n",
       "      <td>59.0</td>\n",
       "      <td>7.65</td>\n",
       "      <td>7.61</td>\n",
       "      <td>4.77</td>\n",
       "      <td>14453</td>\n",
       "    </tr>\n",
       "  </tbody>\n",
       "</table>\n",
       "</div>"
      ],
      "text/plain": [
       "   id  carat        cut color clarity  depth  table     x     y     z  price\n",
       "0   0   1.52    Premium     F     VS2   62.2   58.0  7.27  7.33  4.55  13619\n",
       "1   1   2.03  Very Good     J     SI2   62.0   58.0  8.06  8.12  5.05  13387\n",
       "2   2   0.70      Ideal     G     VS1   61.2   57.0  5.69  5.73  3.50   2772\n",
       "3   3   0.32      Ideal     G     VS1   61.6   56.0  4.38  4.41  2.71    666\n",
       "4   4   1.70    Premium     G     VS2   62.6   59.0  7.65  7.61  4.77  14453"
      ]
     },
     "execution_count": 5,
     "metadata": {},
     "output_type": "execute_result"
    }
   ],
   "source": [
    "df.head()"
   ]
  },
  {
   "cell_type": "code",
   "execution_count": 6,
   "metadata": {},
   "outputs": [
    {
     "name": "stdout",
     "output_type": "stream",
     "text": [
      "<class 'pandas.core.frame.DataFrame'>\n",
      "RangeIndex: 193573 entries, 0 to 193572\n",
      "Data columns (total 11 columns):\n",
      " #   Column   Non-Null Count   Dtype  \n",
      "---  ------   --------------   -----  \n",
      " 0   id       193573 non-null  int64  \n",
      " 1   carat    193573 non-null  float64\n",
      " 2   cut      193573 non-null  object \n",
      " 3   color    193573 non-null  object \n",
      " 4   clarity  193573 non-null  object \n",
      " 5   depth    193573 non-null  float64\n",
      " 6   table    193573 non-null  float64\n",
      " 7   x        193573 non-null  float64\n",
      " 8   y        193573 non-null  float64\n",
      " 9   z        193573 non-null  float64\n",
      " 10  price    193573 non-null  int64  \n",
      "dtypes: float64(6), int64(2), object(3)\n",
      "memory usage: 16.2+ MB\n"
     ]
    }
   ],
   "source": [
    "df.info()"
   ]
  },
  {
   "cell_type": "code",
   "execution_count": 7,
   "metadata": {},
   "outputs": [
    {
     "data": {
      "text/plain": [
       "0"
      ]
     },
     "execution_count": 7,
     "metadata": {},
     "output_type": "execute_result"
    }
   ],
   "source": [
    "df.duplicated().sum()"
   ]
  },
  {
   "cell_type": "code",
   "execution_count": 8,
   "metadata": {},
   "outputs": [
    {
     "data": {
      "text/plain": [
       "id         0\n",
       "carat      0\n",
       "cut        0\n",
       "color      0\n",
       "clarity    0\n",
       "depth      0\n",
       "table      0\n",
       "x          0\n",
       "y          0\n",
       "z          0\n",
       "price      0\n",
       "dtype: int64"
      ]
     },
     "execution_count": 8,
     "metadata": {},
     "output_type": "execute_result"
    }
   ],
   "source": [
    "df.isna().sum()"
   ]
  },
  {
   "cell_type": "code",
   "execution_count": 9,
   "metadata": {},
   "outputs": [],
   "source": [
    "from ydata_profiling import ProfileReport\n",
    "profile=ProfileReport(df,title=\"pandas profiling report\")"
   ]
  },
  {
   "cell_type": "code",
   "execution_count": 8,
   "metadata": {},
   "outputs": [
    {
     "data": {
      "application/vnd.jupyter.widget-view+json": {
       "model_id": "383da5f707ca4e1193e4d1afa013877c",
       "version_major": 2,
       "version_minor": 0
      },
      "text/plain": [
       "Summarize dataset:   0%|          | 0/5 [00:00<?, ?it/s]"
      ]
     },
     "metadata": {},
     "output_type": "display_data"
    },
    {
     "name": "stderr",
     "output_type": "stream",
     "text": [
      "c:\\Users\\waghu\\anaconda3\\Lib\\site-packages\\ydata_profiling\\model\\correlations.py:66: UserWarning: There was an attempt to calculate the auto correlation, but this failed.\n",
      "To hide this warning, disable the calculation\n",
      "(using `df.profile_report(correlations={\"auto\": {\"calculate\": False}})`\n",
      "If this is problematic for your use case, please report this as an issue:\n",
      "https://github.com/ydataai/ydata-profiling/issues\n",
      "(include the error message: 'could not convert string to float: 'VS2'')\n",
      "  warnings.warn(\n"
     ]
    },
    {
     "data": {
      "application/vnd.jupyter.widget-view+json": {
       "model_id": "74e34e5fd106492eb88cd9b0a0a9cc46",
       "version_major": 2,
       "version_minor": 0
      },
      "text/plain": [
       "Generate report structure:   0%|          | 0/1 [00:00<?, ?it/s]"
      ]
     },
     "metadata": {},
     "output_type": "display_data"
    },
    {
     "data": {
      "application/vnd.jupyter.widget-view+json": {
       "model_id": "abc9385e6cab4db38f9396b440e47c4c",
       "version_major": 2,
       "version_minor": 0
      },
      "text/plain": [
       "Render widgets:   0%|          | 0/1 [00:00<?, ?it/s]"
      ]
     },
     "metadata": {},
     "output_type": "display_data"
    },
    {
     "data": {
      "application/vnd.jupyter.widget-view+json": {
       "model_id": "5f9128e7e9654e0ea17531d6a08617fb",
       "version_major": 2,
       "version_minor": 0
      },
      "text/plain": [
       "VBox(children=(Tab(children=(Tab(children=(GridBox(children=(VBox(children=(GridspecLayout(children=(HTML(valu…"
      ]
     },
     "metadata": {},
     "output_type": "display_data"
    }
   ],
   "source": [
    "profile.to_widgets()"
   ]
  },
  {
   "cell_type": "code",
   "execution_count": 10,
   "metadata": {},
   "outputs": [
    {
     "data": {
      "text/plain": [
       "array(['Premium', 'Very Good', 'Ideal', 'Good', 'Fair'], dtype=object)"
      ]
     },
     "execution_count": 10,
     "metadata": {},
     "output_type": "execute_result"
    }
   ],
   "source": [
    "df['cut'].unique()"
   ]
  },
  {
   "cell_type": "code",
   "execution_count": 11,
   "metadata": {},
   "outputs": [
    {
     "data": {
      "text/plain": [
       "array(['VS2', 'SI2', 'VS1', 'SI1', 'IF', 'VVS2', 'VVS1', 'I1'],\n",
       "      dtype=object)"
      ]
     },
     "execution_count": 11,
     "metadata": {},
     "output_type": "execute_result"
    }
   ],
   "source": [
    "df['clarity'].unique()"
   ]
  },
  {
   "cell_type": "code",
   "execution_count": 12,
   "metadata": {},
   "outputs": [
    {
     "data": {
      "text/plain": [
       "array(['F', 'J', 'G', 'E', 'D', 'H', 'I'], dtype=object)"
      ]
     },
     "execution_count": 12,
     "metadata": {},
     "output_type": "execute_result"
    }
   ],
   "source": [
    "df['color'].unique()"
   ]
  },
  {
   "cell_type": "code",
   "execution_count": 13,
   "metadata": {},
   "outputs": [],
   "source": [
    "cut_map={'Fair':1,\"Good\":2,\"Very Good\":3,\"Premium\":4,\"Ideal\":5}\n",
    "clarity_map={\"I1\":1,\"SI2\":2,\"SI1\":3,\"VS2\":4,\"VS1\":5,\"VVS2\":6,\"VVS1\":7,\"IF\":8}\n",
    "color_map={\"D\":1,\"E\":2,\"F\":3,\"G\":4,\"H\":5,\"I\":6,\"J\":7}"
   ]
  },
  {
   "cell_type": "code",
   "execution_count": 14,
   "metadata": {},
   "outputs": [],
   "source": [
    "df['cut']=df['cut'].map(cut_map)\n",
    "df['clarity']=df['clarity'].map(clarity_map)\n",
    "df['color']=df['color'].map(color_map)"
   ]
  },
  {
   "cell_type": "code",
   "execution_count": 15,
   "metadata": {},
   "outputs": [
    {
     "data": {
      "text/html": [
       "<div>\n",
       "<style scoped>\n",
       "    .dataframe tbody tr th:only-of-type {\n",
       "        vertical-align: middle;\n",
       "    }\n",
       "\n",
       "    .dataframe tbody tr th {\n",
       "        vertical-align: top;\n",
       "    }\n",
       "\n",
       "    .dataframe thead th {\n",
       "        text-align: right;\n",
       "    }\n",
       "</style>\n",
       "<table border=\"1\" class=\"dataframe\">\n",
       "  <thead>\n",
       "    <tr style=\"text-align: right;\">\n",
       "      <th></th>\n",
       "      <th>id</th>\n",
       "      <th>carat</th>\n",
       "      <th>cut</th>\n",
       "      <th>color</th>\n",
       "      <th>clarity</th>\n",
       "      <th>depth</th>\n",
       "      <th>table</th>\n",
       "      <th>x</th>\n",
       "      <th>y</th>\n",
       "      <th>z</th>\n",
       "      <th>price</th>\n",
       "    </tr>\n",
       "  </thead>\n",
       "  <tbody>\n",
       "    <tr>\n",
       "      <th>0</th>\n",
       "      <td>0</td>\n",
       "      <td>1.52</td>\n",
       "      <td>4</td>\n",
       "      <td>3</td>\n",
       "      <td>4</td>\n",
       "      <td>62.2</td>\n",
       "      <td>58.0</td>\n",
       "      <td>7.27</td>\n",
       "      <td>7.33</td>\n",
       "      <td>4.55</td>\n",
       "      <td>13619</td>\n",
       "    </tr>\n",
       "    <tr>\n",
       "      <th>1</th>\n",
       "      <td>1</td>\n",
       "      <td>2.03</td>\n",
       "      <td>3</td>\n",
       "      <td>7</td>\n",
       "      <td>2</td>\n",
       "      <td>62.0</td>\n",
       "      <td>58.0</td>\n",
       "      <td>8.06</td>\n",
       "      <td>8.12</td>\n",
       "      <td>5.05</td>\n",
       "      <td>13387</td>\n",
       "    </tr>\n",
       "    <tr>\n",
       "      <th>2</th>\n",
       "      <td>2</td>\n",
       "      <td>0.70</td>\n",
       "      <td>5</td>\n",
       "      <td>4</td>\n",
       "      <td>5</td>\n",
       "      <td>61.2</td>\n",
       "      <td>57.0</td>\n",
       "      <td>5.69</td>\n",
       "      <td>5.73</td>\n",
       "      <td>3.50</td>\n",
       "      <td>2772</td>\n",
       "    </tr>\n",
       "    <tr>\n",
       "      <th>3</th>\n",
       "      <td>3</td>\n",
       "      <td>0.32</td>\n",
       "      <td>5</td>\n",
       "      <td>4</td>\n",
       "      <td>5</td>\n",
       "      <td>61.6</td>\n",
       "      <td>56.0</td>\n",
       "      <td>4.38</td>\n",
       "      <td>4.41</td>\n",
       "      <td>2.71</td>\n",
       "      <td>666</td>\n",
       "    </tr>\n",
       "    <tr>\n",
       "      <th>4</th>\n",
       "      <td>4</td>\n",
       "      <td>1.70</td>\n",
       "      <td>4</td>\n",
       "      <td>4</td>\n",
       "      <td>4</td>\n",
       "      <td>62.6</td>\n",
       "      <td>59.0</td>\n",
       "      <td>7.65</td>\n",
       "      <td>7.61</td>\n",
       "      <td>4.77</td>\n",
       "      <td>14453</td>\n",
       "    </tr>\n",
       "  </tbody>\n",
       "</table>\n",
       "</div>"
      ],
      "text/plain": [
       "   id  carat  cut  color  clarity  depth  table     x     y     z  price\n",
       "0   0   1.52    4      3        4   62.2   58.0  7.27  7.33  4.55  13619\n",
       "1   1   2.03    3      7        2   62.0   58.0  8.06  8.12  5.05  13387\n",
       "2   2   0.70    5      4        5   61.2   57.0  5.69  5.73  3.50   2772\n",
       "3   3   0.32    5      4        5   61.6   56.0  4.38  4.41  2.71    666\n",
       "4   4   1.70    4      4        4   62.6   59.0  7.65  7.61  4.77  14453"
      ]
     },
     "execution_count": 15,
     "metadata": {},
     "output_type": "execute_result"
    }
   ],
   "source": [
    "df.head()"
   ]
  },
  {
   "cell_type": "code",
   "execution_count": 16,
   "metadata": {},
   "outputs": [],
   "source": [
    "import matplotlib.pyplot as plt \n",
    "%matplotlib inline\n"
   ]
  },
  {
   "cell_type": "code",
   "execution_count": 17,
   "metadata": {},
   "outputs": [],
   "source": [
    "df.drop('id',axis=1,inplace=True)"
   ]
  },
  {
   "cell_type": "code",
   "execution_count": 18,
   "metadata": {},
   "outputs": [],
   "source": [
    "# Dependant and independant variables\n",
    "X=df.drop('price',axis=1)\n",
    "y=df['price']"
   ]
  },
  {
   "cell_type": "code",
   "execution_count": 19,
   "metadata": {},
   "outputs": [
    {
     "data": {
      "text/plain": [
       "0         13619\n",
       "1         13387\n",
       "2          2772\n",
       "3           666\n",
       "4         14453\n",
       "          ...  \n",
       "193568     1130\n",
       "193569     2874\n",
       "193570     3036\n",
       "193571      681\n",
       "193572     2258\n",
       "Name: price, Length: 193573, dtype: int64"
      ]
     },
     "execution_count": 19,
     "metadata": {},
     "output_type": "execute_result"
    }
   ],
   "source": [
    "y"
   ]
  },
  {
   "cell_type": "code",
   "execution_count": 20,
   "metadata": {},
   "outputs": [],
   "source": [
    "import seaborn as sns"
   ]
  },
  {
   "cell_type": "code",
   "execution_count": 21,
   "metadata": {},
   "outputs": [
    {
     "data": {
      "image/png": "[encoded data removed]",
      "text/plain": [
       "<Figure size 1200x800 with 1 Axes>"
      ]
     },
     "metadata": {},
     "output_type": "display_data"
    }
   ],
   "source": [
    "x_melted = X.melt( var_name='Feature', value_name='Value')\n",
    "\n",
    "# Create the boxplot\n",
    "sns.set(style=\"whitegrid\")\n",
    "plt.figure(figsize=(12, 8))\n",
    "sns.boxplot(x='Feature', y='Value', data=x_melted)\n",
    "plt.title('Boxplot for Multiple Features')\n",
    "plt.xticks(rotation=45)\n",
    "plt.show()"
   ]
  },
  {
   "cell_type": "code",
   "execution_count": 22,
   "metadata": {},
   "outputs": [
    {
     "data": {
      "text/html": [
       "<div>\n",
       "<style scoped>\n",
       "    .dataframe tbody tr th:only-of-type {\n",
       "        vertical-align: middle;\n",
       "    }\n",
       "\n",
       "    .dataframe tbody tr th {\n",
       "        vertical-align: top;\n",
       "    }\n",
       "\n",
       "    .dataframe thead th {\n",
       "        text-align: right;\n",
       "    }\n",
       "</style>\n",
       "<table border=\"1\" class=\"dataframe\">\n",
       "  <thead>\n",
       "    <tr style=\"text-align: right;\">\n",
       "      <th></th>\n",
       "      <th>carat</th>\n",
       "      <th>cut</th>\n",
       "      <th>color</th>\n",
       "      <th>clarity</th>\n",
       "      <th>depth</th>\n",
       "      <th>table</th>\n",
       "      <th>x</th>\n",
       "      <th>y</th>\n",
       "      <th>z</th>\n",
       "    </tr>\n",
       "  </thead>\n",
       "  <tbody>\n",
       "    <tr>\n",
       "      <th>count</th>\n",
       "      <td>193573.000000</td>\n",
       "      <td>193573.000000</td>\n",
       "      <td>193573.000000</td>\n",
       "      <td>193573.000000</td>\n",
       "      <td>193573.000000</td>\n",
       "      <td>193573.000000</td>\n",
       "      <td>193573.000000</td>\n",
       "      <td>193573.000000</td>\n",
       "      <td>193573.000000</td>\n",
       "    </tr>\n",
       "    <tr>\n",
       "      <th>mean</th>\n",
       "      <td>0.790688</td>\n",
       "      <td>4.132152</td>\n",
       "      <td>3.516157</td>\n",
       "      <td>3.975084</td>\n",
       "      <td>61.820574</td>\n",
       "      <td>57.227675</td>\n",
       "      <td>5.715312</td>\n",
       "      <td>5.720094</td>\n",
       "      <td>3.534246</td>\n",
       "    </tr>\n",
       "    <tr>\n",
       "      <th>std</th>\n",
       "      <td>0.462688</td>\n",
       "      <td>0.994157</td>\n",
       "      <td>1.623091</td>\n",
       "      <td>1.501776</td>\n",
       "      <td>1.081704</td>\n",
       "      <td>1.918844</td>\n",
       "      <td>1.109422</td>\n",
       "      <td>1.102333</td>\n",
       "      <td>0.688922</td>\n",
       "    </tr>\n",
       "    <tr>\n",
       "      <th>min</th>\n",
       "      <td>0.200000</td>\n",
       "      <td>1.000000</td>\n",
       "      <td>1.000000</td>\n",
       "      <td>1.000000</td>\n",
       "      <td>52.100000</td>\n",
       "      <td>49.000000</td>\n",
       "      <td>0.000000</td>\n",
       "      <td>0.000000</td>\n",
       "      <td>0.000000</td>\n",
       "    </tr>\n",
       "    <tr>\n",
       "      <th>25%</th>\n",
       "      <td>0.400000</td>\n",
       "      <td>3.000000</td>\n",
       "      <td>2.000000</td>\n",
       "      <td>3.000000</td>\n",
       "      <td>61.300000</td>\n",
       "      <td>56.000000</td>\n",
       "      <td>4.700000</td>\n",
       "      <td>4.710000</td>\n",
       "      <td>2.900000</td>\n",
       "    </tr>\n",
       "    <tr>\n",
       "      <th>50%</th>\n",
       "      <td>0.700000</td>\n",
       "      <td>4.000000</td>\n",
       "      <td>4.000000</td>\n",
       "      <td>4.000000</td>\n",
       "      <td>61.900000</td>\n",
       "      <td>57.000000</td>\n",
       "      <td>5.700000</td>\n",
       "      <td>5.720000</td>\n",
       "      <td>3.530000</td>\n",
       "    </tr>\n",
       "    <tr>\n",
       "      <th>75%</th>\n",
       "      <td>1.030000</td>\n",
       "      <td>5.000000</td>\n",
       "      <td>5.000000</td>\n",
       "      <td>5.000000</td>\n",
       "      <td>62.400000</td>\n",
       "      <td>58.000000</td>\n",
       "      <td>6.510000</td>\n",
       "      <td>6.510000</td>\n",
       "      <td>4.030000</td>\n",
       "    </tr>\n",
       "    <tr>\n",
       "      <th>max</th>\n",
       "      <td>3.500000</td>\n",
       "      <td>5.000000</td>\n",
       "      <td>7.000000</td>\n",
       "      <td>8.000000</td>\n",
       "      <td>71.600000</td>\n",
       "      <td>79.000000</td>\n",
       "      <td>9.650000</td>\n",
       "      <td>10.010000</td>\n",
       "      <td>31.300000</td>\n",
       "    </tr>\n",
       "  </tbody>\n",
       "</table>\n",
       "</div>"
      ],
      "text/plain": [
       "               carat            cut          color        clarity  \\\n",
       "count  193573.000000  193573.000000  193573.000000  193573.000000   \n",
       "mean        0.790688       4.132152       3.516157       3.975084   \n",
       "std         0.462688       0.994157       1.623091       1.501776   \n",
       "min         0.200000       1.000000       1.000000       1.000000   \n",
       "25%         0.400000       3.000000       2.000000       3.000000   \n",
       "50%         0.700000       4.000000       4.000000       4.000000   \n",
       "75%         1.030000       5.000000       5.000000       5.000000   \n",
       "max         3.500000       5.000000       7.000000       8.000000   \n",
       "\n",
       "               depth          table              x              y  \\\n",
       "count  193573.000000  193573.000000  193573.000000  193573.000000   \n",
       "mean       61.820574      57.227675       5.715312       5.720094   \n",
       "std         1.081704       1.918844       1.109422       1.102333   \n",
       "min        52.100000      49.000000       0.000000       0.000000   \n",
       "25%        61.300000      56.000000       4.700000       4.710000   \n",
       "50%        61.900000      57.000000       5.700000       5.720000   \n",
       "75%        62.400000      58.000000       6.510000       6.510000   \n",
       "max        71.600000      79.000000       9.650000      10.010000   \n",
       "\n",
       "                   z  \n",
       "count  193573.000000  \n",
       "mean        3.534246  \n",
       "std         0.688922  \n",
       "min         0.000000  \n",
       "25%         2.900000  \n",
       "50%         3.530000  \n",
       "75%         4.030000  \n",
       "max        31.300000  "
      ]
     },
     "execution_count": 22,
     "metadata": {},
     "output_type": "execute_result"
    }
   ],
   "source": [
    "X.describe()"
   ]
  },
  {
   "cell_type": "code",
   "execution_count": 23,
   "metadata": {},
   "outputs": [],
   "source": [
    "from sklearn.model_selection import train_test_split\n",
    "X_train,X_test,y_train,y_test=train_test_split(X,y,test_size=0.25,random_state=22)"
   ]
  },
  {
   "cell_type": "code",
   "execution_count": 24,
   "metadata": {},
   "outputs": [],
   "source": [
    "from sklearn.preprocessing import StandardScaler\n",
    "scaler=StandardScaler()\n",
    "X_train_scaled=scaler.fit_transform(X_train)\n",
    "X_test_scaled=scaler.transform(X_test)"
   ]
  },
  {
   "cell_type": "code",
   "execution_count": null,
   "metadata": {},
   "outputs": [],
   "source": []
  },
  {
   "cell_type": "markdown",
   "metadata": {},
   "source": [
    "## Scratch model training"
   ]
  },
  {
   "cell_type": "code",
   "execution_count": 27,
   "metadata": {},
   "outputs": [],
   "source": [
    "import tensorflow\n",
    "from tensorflow import keras\n",
    "from tensorflow.keras import Sequential\n",
    "from keras.layers import Dense,Dropout\n"
   ]
  },
  {
   "cell_type": "code",
   "execution_count": 28,
   "metadata": {},
   "outputs": [
    {
     "name": "stdout",
     "output_type": "stream",
     "text": [
      "Collecting keras-tuner\n",
      "  Obtaining dependency information for keras-tuner from https://files.pythonhosted.org/packages/db/5d/945296512980b0827e93418514c8be9236baa6f0a1e8ca8be3a2026665b0/keras_tuner-1.4.7-py3-none-any.whl.metadata\n",
      "  Downloading keras_tuner-1.4.7-py3-none-any.whl.metadata (5.4 kB)\n",
      "Requirement already satisfied: keras in c:\\users\\waghu\\anaconda3\\lib\\site-packages (from keras-tuner) (2.15.0)\n",
      "Requirement already satisfied: packaging in c:\\users\\waghu\\anaconda3\\lib\\site-packages (from keras-tuner) (23.1)\n",
      "Requirement already satisfied: requests in c:\\users\\waghu\\anaconda3\\lib\\site-packages (from keras-tuner) (2.31.0)\n",
      "Collecting kt-legacy (from keras-tuner)\n",
      "  Obtaining dependency information for kt-legacy from https://files.pythonhosted.org/packages/16/53/aca9f36da2516db008017db85a1f3cafaee0efc5fc7a25d94c909651792f/kt_legacy-1.0.5-py3-none-any.whl.metadata\n",
      "  Downloading kt_legacy-1.0.5-py3-none-any.whl.metadata (221 bytes)\n",
      "Requirement already satisfied: charset-normalizer<4,>=2 in c:\\users\\waghu\\anaconda3\\lib\\site-packages (from requests->keras-tuner) (2.0.4)\n",
      "Requirement already satisfied: idna<4,>=2.5 in c:\\users\\waghu\\anaconda3\\lib\\site-packages (from requests->keras-tuner) (3.4)\n",
      "Requirement already satisfied: urllib3<3,>=1.21.1 in c:\\users\\waghu\\anaconda3\\lib\\site-packages (from requests->keras-tuner) (1.26.18)\n",
      "Requirement already satisfied: certifi>=2017.4.17 in c:\\users\\waghu\\anaconda3\\lib\\site-packages (from requests->keras-tuner) (2023.11.17)\n",
      "Downloading keras_tuner-1.4.7-py3-none-any.whl (129 kB)\n",
      "   ---------------------------------------- 0.0/129.1 kB ? eta -:--:--\n",
      "   ---------------------------------------- 0.0/129.1 kB ? eta -:--:--\n",
      "   --- ------------------------------------ 10.2/129.1 kB ? eta -:--:--\n",
      "   --------- ----------------------------- 30.7/129.1 kB 435.7 kB/s eta 0:00:01\n",
      "   ------------ -------------------------- 41.0/129.1 kB 393.8 kB/s eta 0:00:01\n",
      "   ------------------------ -------------- 81.9/129.1 kB 459.5 kB/s eta 0:00:01\n",
      "   --------------------------------- ---- 112.6/129.1 kB 467.6 kB/s eta 0:00:01\n",
      "   -------------------------------------- 129.1/129.1 kB 475.6 kB/s eta 0:00:00\n",
      "Downloading kt_legacy-1.0.5-py3-none-any.whl (9.6 kB)\n",
      "Installing collected packages: kt-legacy, keras-tuner\n",
      "Successfully installed keras-tuner-1.4.7 kt-legacy-1.0.5\n",
      "Note: you may need to restart the kernel to use updated packages.\n"
     ]
    }
   ],
   "source": [
    "pip install keras-tuner"
   ]
  },
  {
   "cell_type": "code",
   "execution_count": 30,
   "metadata": {},
   "outputs": [],
   "source": [
    "import keras_tuner as kt"
   ]
  },
  {
   "cell_type": "code",
   "execution_count": 26,
   "metadata": {},
   "outputs": [
    {
     "name": "stdout",
     "output_type": "stream",
     "text": [
      "WARNING:tensorflow:From c:\\Users\\waghu\\anaconda3\\Lib\\site-packages\\keras\\src\\backend.py:873: The name tf.get_default_graph is deprecated. Please use tf.compat.v1.get_default_graph instead.\n",
      "\n"
     ]
    }
   ],
   "source": [
    "model=Sequential()"
   ]
  },
  {
   "cell_type": "code",
   "execution_count": 27,
   "metadata": {},
   "outputs": [],
   "source": [
    "model.add(Dense(250,activation='relu',input_dim=9))\n",
    "model.add(Dense(100,activation='relu'))\n",
    "model.add(Dropout(rate=0.2))\n",
    "model.add(Dense(10,activation='relu'))\n",
    "model.add(Dense(1))"
   ]
  },
  {
   "cell_type": "code",
   "execution_count": 28,
   "metadata": {},
   "outputs": [
    {
     "name": "stdout",
     "output_type": "stream",
     "text": [
      "Model: \"sequential\"\n",
      "_________________________________________________________________\n",
      " Layer (type)                Output Shape              Param #   \n",
      "=================================================================\n",
      " dense (Dense)               (None, 250)               2500      \n",
      "                                                                 \n",
      " dense_1 (Dense)             (None, 100)               25100     \n",
      "                                                                 \n",
      " dropout (Dropout)           (None, 100)               0         \n",
      "                                                                 \n",
      " dense_2 (Dense)             (None, 10)                1010      \n",
      "                                                                 \n",
      " dense_3 (Dense)             (None, 1)                 11        \n",
      "                                                                 \n",
      "=================================================================\n",
      "Total params: 28621 (111.80 KB)\n",
      "Trainable params: 28621 (111.80 KB)\n",
      "Non-trainable params: 0 (0.00 Byte)\n",
      "_________________________________________________________________\n"
     ]
    }
   ],
   "source": [
    "model.summary()"
   ]
  },
  {
   "cell_type": "code",
   "execution_count": 29,
   "metadata": {},
   "outputs": [
    {
     "name": "stdout",
     "output_type": "stream",
     "text": [
      "WARNING:tensorflow:From c:\\Users\\waghu\\anaconda3\\Lib\\site-packages\\keras\\src\\optimizers\\__init__.py:309: The name tf.train.Optimizer is deprecated. Please use tf.compat.v1.train.Optimizer instead.\n",
      "\n"
     ]
    }
   ],
   "source": [
    "model.compile(loss='mean_absolute_error',optimizer='Adam')"
   ]
  },
  {
   "cell_type": "code",
   "execution_count": 30,
   "metadata": {},
   "outputs": [
    {
     "name": "stdout",
     "output_type": "stream",
     "text": [
      "Epoch 1/100\n",
      "WARNING:tensorflow:From c:\\Users\\waghu\\anaconda3\\Lib\\site-packages\\keras\\src\\utils\\tf_utils.py:492: The name tf.ragged.RaggedTensorValue is deprecated. Please use tf.compat.v1.ragged.RaggedTensorValue instead.\n",
      "\n",
      "3630/3630 [==============================] - 17s 4ms/step - loss: 693.7649 - val_loss: 400.4584\n",
      "Epoch 2/100\n",
      "3630/3630 [==============================] - 11s 3ms/step - loss: 439.6911 - val_loss: 385.8896\n",
      "Epoch 3/100\n",
      "3630/3630 [==============================] - 12s 3ms/step - loss: 425.1751 - val_loss: 371.5728\n",
      "Epoch 4/100\n",
      "3630/3630 [==============================] - 17s 5ms/step - loss: 416.8081 - val_loss: 361.0804\n",
      "Epoch 5/100\n",
      "3630/3630 [==============================] - 13s 4ms/step - loss: 409.1378 - val_loss: 356.5431\n",
      "Epoch 6/100\n",
      "3630/3630 [==============================] - 12s 3ms/step - loss: 401.0087 - val_loss: 349.8665\n",
      "Epoch 7/100\n",
      "3630/3630 [==============================] - 11s 3ms/step - loss: 396.3952 - val_loss: 341.3534\n",
      "Epoch 8/100\n",
      "3630/3630 [==============================] - 14s 4ms/step - loss: 393.1911 - val_loss: 339.5171\n",
      "Epoch 9/100\n",
      "3630/3630 [==============================] - 15s 4ms/step - loss: 388.0225 - val_loss: 360.3259\n",
      "Epoch 10/100\n",
      "3630/3630 [==============================] - 17s 5ms/step - loss: 384.8068 - val_loss: 332.5608\n",
      "Epoch 11/100\n",
      "3630/3630 [==============================] - 10s 3ms/step - loss: 379.6341 - val_loss: 366.9252\n",
      "Epoch 12/100\n",
      "3630/3630 [==============================] - 10s 3ms/step - loss: 373.9619 - val_loss: 340.2722\n",
      "Epoch 13/100\n",
      "3630/3630 [==============================] - 17s 5ms/step - loss: 368.6938 - val_loss: 396.1846\n",
      "Epoch 14/100\n",
      "3630/3630 [==============================] - 16s 5ms/step - loss: 363.8456 - val_loss: 408.9973\n",
      "Epoch 15/100\n",
      "3630/3630 [==============================] - 11s 3ms/step - loss: 358.6507 - val_loss: 458.3245\n",
      "Epoch 16/100\n",
      "3630/3630 [==============================] - 17s 5ms/step - loss: 354.3986 - val_loss: 510.7059\n",
      "Epoch 17/100\n",
      "3630/3630 [==============================] - 15s 4ms/step - loss: 348.6401 - val_loss: 510.4071\n",
      "Epoch 18/100\n",
      "3630/3630 [==============================] - 12s 3ms/step - loss: 345.7764 - val_loss: 534.6144\n",
      "Epoch 19/100\n",
      "3630/3630 [==============================] - 11s 3ms/step - loss: 341.5604 - val_loss: 517.6633\n",
      "Epoch 20/100\n",
      "3630/3630 [==============================] - 14s 4ms/step - loss: 339.5451 - val_loss: 600.5679\n",
      "Epoch 21/100\n",
      "3630/3630 [==============================] - 25s 7ms/step - loss: 337.3948 - val_loss: 678.8760\n",
      "Epoch 22/100\n",
      "3630/3630 [==============================] - 29s 8ms/step - loss: 334.9660 - val_loss: 609.1389\n",
      "Epoch 23/100\n",
      "3630/3630 [==============================] - 25s 7ms/step - loss: 334.7783 - val_loss: 664.7427\n",
      "Epoch 24/100\n",
      "3630/3630 [==============================] - 25s 7ms/step - loss: 332.1284 - val_loss: 610.4109\n",
      "Epoch 25/100\n",
      "3630/3630 [==============================] - 25s 7ms/step - loss: 330.8496 - val_loss: 672.6849\n",
      "Epoch 26/100\n",
      "3630/3630 [==============================] - 24s 7ms/step - loss: 331.3368 - val_loss: 745.8935\n",
      "Epoch 27/100\n",
      "3630/3630 [==============================] - 24s 7ms/step - loss: 328.8421 - val_loss: 641.0358\n",
      "Epoch 28/100\n",
      "3630/3630 [==============================] - 25s 7ms/step - loss: 328.7531 - val_loss: 706.2507\n",
      "Epoch 29/100\n",
      "3630/3630 [==============================] - 26s 7ms/step - loss: 328.2984 - val_loss: 715.4824\n",
      "Epoch 30/100\n",
      "3630/3630 [==============================] - 25s 7ms/step - loss: 328.6010 - val_loss: 764.6526\n",
      "Epoch 31/100\n",
      "3630/3630 [==============================] - 24s 7ms/step - loss: 326.8920 - val_loss: 750.9891\n",
      "Epoch 32/100\n",
      "3630/3630 [==============================] - 24s 7ms/step - loss: 326.5448 - val_loss: 771.4898\n",
      "Epoch 33/100\n",
      "3630/3630 [==============================] - 23s 6ms/step - loss: 325.9131 - val_loss: 817.3912\n",
      "Epoch 34/100\n",
      "3630/3630 [==============================] - 24s 7ms/step - loss: 325.8417 - val_loss: 833.0441\n",
      "Epoch 35/100\n",
      "3630/3630 [==============================] - 24s 7ms/step - loss: 324.9373 - val_loss: 663.9952\n",
      "Epoch 36/100\n",
      "3630/3630 [==============================] - 24s 7ms/step - loss: 323.7703 - val_loss: 782.7533\n",
      "Epoch 37/100\n",
      "3630/3630 [==============================] - 25s 7ms/step - loss: 324.5169 - val_loss: 699.9889\n",
      "Epoch 38/100\n",
      "3630/3630 [==============================] - 25s 7ms/step - loss: 323.9155 - val_loss: 694.5261\n",
      "Epoch 39/100\n",
      "3630/3630 [==============================] - 18s 5ms/step - loss: 323.3257 - val_loss: 746.3206\n",
      "Epoch 40/100\n",
      "3630/3630 [==============================] - 15s 4ms/step - loss: 322.8911 - val_loss: 783.3678\n",
      "Epoch 41/100\n",
      "3630/3630 [==============================] - 13s 4ms/step - loss: 323.0334 - val_loss: 746.1466\n",
      "Epoch 42/100\n",
      "3630/3630 [==============================] - 15s 4ms/step - loss: 323.2762 - val_loss: 694.7316\n",
      "Epoch 43/100\n",
      "3630/3630 [==============================] - 17s 5ms/step - loss: 322.6887 - val_loss: 727.8351\n",
      "Epoch 44/100\n",
      "3630/3630 [==============================] - 15s 4ms/step - loss: 322.5116 - val_loss: 773.5400\n",
      "Epoch 45/100\n",
      "3630/3630 [==============================] - 14s 4ms/step - loss: 321.0080 - val_loss: 776.8052\n",
      "Epoch 46/100\n",
      "3630/3630 [==============================] - 19s 5ms/step - loss: 321.2479 - val_loss: 739.4588\n",
      "Epoch 47/100\n",
      "3630/3630 [==============================] - 14s 4ms/step - loss: 321.4002 - val_loss: 731.0677\n",
      "Epoch 48/100\n",
      "3630/3630 [==============================] - 11s 3ms/step - loss: 320.0042 - val_loss: 770.1807\n",
      "Epoch 49/100\n",
      "3630/3630 [==============================] - 13s 3ms/step - loss: 321.2092 - val_loss: 688.7440\n",
      "Epoch 50/100\n",
      "3630/3630 [==============================] - 12s 3ms/step - loss: 320.5751 - val_loss: 740.8347\n",
      "Epoch 51/100\n",
      "3630/3630 [==============================] - 18s 5ms/step - loss: 319.0869 - val_loss: 760.0344\n",
      "Epoch 52/100\n",
      "3630/3630 [==============================] - 16s 4ms/step - loss: 321.3086 - val_loss: 766.7036\n",
      "Epoch 53/100\n",
      "3630/3630 [==============================] - 17s 5ms/step - loss: 319.3600 - val_loss: 715.8847\n",
      "Epoch 54/100\n",
      "3630/3630 [==============================] - 12s 3ms/step - loss: 320.8112 - val_loss: 671.6638\n",
      "Epoch 55/100\n",
      "3630/3630 [==============================] - 21s 6ms/step - loss: 319.1123 - val_loss: 789.0419\n",
      "Epoch 56/100\n",
      "3630/3630 [==============================] - 22s 6ms/step - loss: 318.4815 - val_loss: 761.9608\n",
      "Epoch 57/100\n",
      "3630/3630 [==============================] - 16s 4ms/step - loss: 317.5977 - val_loss: 762.7050\n",
      "Epoch 58/100\n",
      "3630/3630 [==============================] - 13s 4ms/step - loss: 316.0056 - val_loss: 745.1625\n",
      "Epoch 59/100\n",
      "3630/3630 [==============================] - 21s 6ms/step - loss: 315.8809 - val_loss: 730.7686\n",
      "Epoch 60/100\n",
      "3630/3630 [==============================] - 15s 4ms/step - loss: 316.1730 - val_loss: 742.0370\n",
      "Epoch 61/100\n",
      "3630/3630 [==============================] - 12s 3ms/step - loss: 315.7779 - val_loss: 760.5478\n",
      "Epoch 62/100\n",
      "3630/3630 [==============================] - 12s 3ms/step - loss: 314.8773 - val_loss: 781.2245\n",
      "Epoch 63/100\n",
      "3630/3630 [==============================] - 11s 3ms/step - loss: 315.0442 - val_loss: 757.6078\n",
      "Epoch 64/100\n",
      "3630/3630 [==============================] - 11s 3ms/step - loss: 314.9325 - val_loss: 775.4163\n",
      "Epoch 65/100\n",
      "3630/3630 [==============================] - 12s 3ms/step - loss: 313.7443 - val_loss: 731.6898\n",
      "Epoch 66/100\n",
      "3630/3630 [==============================] - 11s 3ms/step - loss: 313.4236 - val_loss: 789.7060\n",
      "Epoch 67/100\n",
      "3630/3630 [==============================] - 10s 3ms/step - loss: 312.9967 - val_loss: 764.4653\n",
      "Epoch 68/100\n",
      "3630/3630 [==============================] - 10s 3ms/step - loss: 312.5270 - val_loss: 822.7357\n",
      "Epoch 69/100\n",
      "3630/3630 [==============================] - 12s 3ms/step - loss: 311.6633 - val_loss: 819.1988\n",
      "Epoch 70/100\n",
      "3630/3630 [==============================] - 13s 3ms/step - loss: 311.5077 - val_loss: 724.0604\n",
      "Epoch 71/100\n",
      "3630/3630 [==============================] - 11s 3ms/step - loss: 311.0200 - val_loss: 799.7614\n",
      "Epoch 72/100\n",
      "3630/3630 [==============================] - 12s 3ms/step - loss: 310.8669 - val_loss: 795.2858\n",
      "Epoch 73/100\n",
      "3630/3630 [==============================] - 13s 4ms/step - loss: 310.1830 - val_loss: 737.9841\n",
      "Epoch 74/100\n",
      "3630/3630 [==============================] - 12s 3ms/step - loss: 310.1140 - val_loss: 751.1561\n",
      "Epoch 75/100\n",
      "3630/3630 [==============================] - 12s 3ms/step - loss: 309.7575 - val_loss: 779.0665\n",
      "Epoch 76/100\n",
      "3630/3630 [==============================] - 11s 3ms/step - loss: 309.7145 - val_loss: 769.1517\n",
      "Epoch 77/100\n",
      "3630/3630 [==============================] - 7s 2ms/step - loss: 308.9559 - val_loss: 768.9796\n",
      "Epoch 78/100\n",
      "3630/3630 [==============================] - 7s 2ms/step - loss: 308.9650 - val_loss: 757.9273\n",
      "Epoch 79/100\n",
      "3630/3630 [==============================] - 7s 2ms/step - loss: 308.9236 - val_loss: 783.9503\n",
      "Epoch 80/100\n",
      "3630/3630 [==============================] - 10s 3ms/step - loss: 309.4454 - val_loss: 772.6848\n",
      "Epoch 81/100\n",
      "3630/3630 [==============================] - 10s 3ms/step - loss: 309.3565 - val_loss: 836.8506\n",
      "Epoch 82/100\n",
      "3630/3630 [==============================] - 19s 5ms/step - loss: 308.7737 - val_loss: 760.7764\n",
      "Epoch 83/100\n",
      "3630/3630 [==============================] - 19s 5ms/step - loss: 309.2453 - val_loss: 818.8062\n",
      "Epoch 84/100\n",
      "3630/3630 [==============================] - 19s 5ms/step - loss: 308.3461 - val_loss: 818.0794\n",
      "Epoch 85/100\n",
      "3630/3630 [==============================] - 20s 5ms/step - loss: 307.9560 - val_loss: 755.6127\n",
      "Epoch 86/100\n",
      "3630/3630 [==============================] - 12s 3ms/step - loss: 308.5703 - val_loss: 773.6945\n",
      "Epoch 87/100\n",
      "3630/3630 [==============================] - 8s 2ms/step - loss: 307.6944 - val_loss: 763.6846\n",
      "Epoch 88/100\n",
      "3630/3630 [==============================] - 8s 2ms/step - loss: 308.3131 - val_loss: 776.2636\n",
      "Epoch 89/100\n",
      "3630/3630 [==============================] - 12s 3ms/step - loss: 307.9733 - val_loss: 770.8022\n",
      "Epoch 90/100\n",
      "3630/3630 [==============================] - 9s 2ms/step - loss: 307.1995 - val_loss: 784.5884\n",
      "Epoch 91/100\n",
      "3630/3630 [==============================] - 8s 2ms/step - loss: 308.2088 - val_loss: 782.9634\n",
      "Epoch 92/100\n",
      "3630/3630 [==============================] - 8s 2ms/step - loss: 307.0738 - val_loss: 771.1952\n",
      "Epoch 93/100\n",
      "3630/3630 [==============================] - 9s 2ms/step - loss: 306.6898 - val_loss: 819.7877\n",
      "Epoch 94/100\n",
      "3630/3630 [==============================] - 8s 2ms/step - loss: 307.1189 - val_loss: 817.3660\n",
      "Epoch 95/100\n",
      "3630/3630 [==============================] - 9s 2ms/step - loss: 307.2940 - val_loss: 789.5116\n",
      "Epoch 96/100\n",
      "3630/3630 [==============================] - 8s 2ms/step - loss: 307.4349 - val_loss: 719.5234\n",
      "Epoch 97/100\n",
      "3630/3630 [==============================] - 10s 3ms/step - loss: 306.9875 - val_loss: 781.4497\n",
      "Epoch 98/100\n",
      "3630/3630 [==============================] - 20s 6ms/step - loss: 307.2859 - val_loss: 838.4016\n",
      "Epoch 99/100\n",
      "3630/3630 [==============================] - 20s 6ms/step - loss: 307.1115 - val_loss: 743.2501\n",
      "Epoch 100/100\n",
      "3630/3630 [==============================] - 18s 5ms/step - loss: 307.1503 - val_loss: 732.4961\n"
     ]
    }
   ],
   "source": [
    "history=model.fit(X_train_scaled,y_train,epochs=100,validation_split=0.2)"
   ]
  },
  {
   "cell_type": "code",
   "execution_count": null,
   "metadata": {},
   "outputs": [
    {
     "data": {
      "text/plain": [
       "[<matplotlib.lines.Line2D at 0x15c2f0a2310>]"
      ]
     },
     "execution_count": 134,
     "metadata": {},
     "output_type": "execute_result"
    },
    {
     "data": {
      "image/png": "[encoded data removed]",
      "text/plain": [
       "<Figure size 640x480 with 1 Axes>"
      ]
     },
     "metadata": {},
     "output_type": "display_data"
    }
   ],
   "source": [
    "plt.plot(history.history['loss'])\n",
    "plt.plot(history.history['val_loss'])"
   ]
  },
  {
   "cell_type": "code",
   "execution_count": null,
   "metadata": {},
   "outputs": [
    {
     "name": "stdout",
     "output_type": "stream",
     "text": [
      "1513/1513 [==============================] - 1s 933us/step\n"
     ]
    }
   ],
   "source": [
    "y_pred=model.predict(X_test_scaled)"
   ]
  },
  {
   "cell_type": "code",
   "execution_count": 45,
   "metadata": {},
   "outputs": [],
   "source": [
    "from sklearn.metrics import r2_score,mean_squared_error,mean_absolute_error"
   ]
  },
  {
   "cell_type": "code",
   "execution_count": null,
   "metadata": {},
   "outputs": [
    {
     "data": {
      "text/plain": [
       "0.9778351019839622"
      ]
     },
     "execution_count": 81,
     "metadata": {},
     "output_type": "execute_result"
    }
   ],
   "source": [
    "r2_score(y_pred=y_pred,y_true=y_test)"
   ]
  },
  {
   "cell_type": "code",
   "execution_count": null,
   "metadata": {},
   "outputs": [
    {
     "data": {
      "text/plain": [
       "array([-1.05943875, -0.13227179,  0.29719971,  0.68331721, -0.57277401,\n",
       "        0.92413559, -1.27462514, -1.26003787, -1.29484785])"
      ]
     },
     "execution_count": 82,
     "metadata": {},
     "output_type": "execute_result"
    }
   ],
   "source": [
    "X_test_scaled[5]"
   ]
  },
  {
   "cell_type": "code",
   "execution_count": null,
   "metadata": {},
   "outputs": [
    {
     "name": "stdout",
     "output_type": "stream",
     "text": [
      "1/1 [==============================] - 0s 50ms/step\n"
     ]
    },
    {
     "data": {
      "text/plain": [
       "array([[1869.697]], dtype=float32)"
      ]
     },
     "execution_count": 94,
     "metadata": {},
     "output_type": "execute_result"
    }
   ],
   "source": [
    "model.predict(X_test_scaled[111].reshape(1,9))"
   ]
  },
  {
   "cell_type": "code",
   "execution_count": null,
   "metadata": {},
   "outputs": [
    {
     "data": {
      "text/plain": [
       "1948"
      ]
     },
     "execution_count": 95,
     "metadata": {},
     "output_type": "execute_result"
    }
   ],
   "source": [
    "y_test.iloc[111]"
   ]
  },
  {
   "cell_type": "code",
   "execution_count": null,
   "metadata": {},
   "outputs": [
    {
     "data": {
      "text/plain": [
       "355816.4770616939"
      ]
     },
     "execution_count": 111,
     "metadata": {},
     "output_type": "execute_result"
    }
   ],
   "source": [
    "mean_squared_error(y_pred=y_pred,y_true=y_test)"
   ]
  },
  {
   "cell_type": "code",
   "execution_count": null,
   "metadata": {},
   "outputs": [],
   "source": [
    "y2=y_pred.tolist()"
   ]
  },
  {
   "cell_type": "code",
   "execution_count": 43,
   "metadata": {},
   "outputs": [],
   "source": [
    "def evaluate_model(test,predicted):\n",
    "    mae=mean_absolute_error(test,predicted)\n",
    "    mse=mean_squared_error(test,predicted)\n",
    "    rmse=np.sqrt(mean_squared_error(test,predicted))\n",
    "    r2_S=r2_score(test,predicted)\n",
    "    return mae,rmse,r2_S,mse\n",
    "mae,rmse,r2_s,mse=evaluate_model(y_test,y_pred)\n",
    "print(\"Model Performance\")\n",
    "print(\"mean squared error : \",mse)\n",
    "print(\"Root mean squared error : \",rmse)\n",
    "print(\"Mean absolute error : \",mae)\n",
    "print(\"R2 score : \",r2_s*100)"
   ]
  },
  {
   "cell_type": "code",
   "execution_count": null,
   "metadata": {},
   "outputs": [
    {
     "data": {
      "text/plain": [
       "1026169"
      ]
     },
     "execution_count": 119,
     "metadata": {},
     "output_type": "execute_result"
    }
   ],
   "source": [
    "1013**2"
   ]
  },
  {
   "cell_type": "code",
   "execution_count": null,
   "metadata": {},
   "outputs": [
    {
     "name": "stdout",
     "output_type": "stream",
     "text": [
      "Model Performance\n",
      "mean squared error :  371847.34309153573\n",
      "Root mean squared error :  609.7928690067929\n",
      "Mean absolute error :  313.99879241916875\n",
      "R2 score :  97.6836490245702\n"
     ]
    }
   ],
   "source": [
    "# After adding a dropout layer\n",
    "mae,rmse,r2_s,mse=evaluate_model(y_test,y_pred)\n",
    "print(\"Model Performance\")\n",
    "print(\"mean squared error : \",mse)\n",
    "print(\"Root mean squared error : \",rmse)\n",
    "print(\"Mean absolute error : \",mae)\n",
    "print(\"R2 score : \",r2_s*100)"
   ]
  },
  {
   "cell_type": "code",
   "execution_count": 32,
   "metadata": {},
   "outputs": [],
   "source": [
    "## Hyperparameter tunning \n",
    "# from itertools import count\n",
    "\n",
    "def build_model(hp):\n",
    "  model=Sequential()\n",
    "  counter=0\n",
    "  for i in range(hp.Int('num_layers',min_value=1,max_value=10)):\n",
    "    if counter==0:\n",
    "      model.add(\n",
    "          Dense(\n",
    "              units=hp.Int('units'+str(i),min_value=32,max_value=512,step=32),\n",
    "              activation='relu',\n",
    "              input_dim=9\n",
    "          )\n",
    "      )\n",
    "    else:\n",
    "      model.add(\n",
    "          Dense(\n",
    "              units=hp.Int('units'+str(i),min_value=32,max_value=512,step=32),\n",
    "              activation='relu'\n",
    "          )\n",
    "      )\n",
    "  model.add(\n",
    "      Dense(1)\n",
    "  )\n",
    "  counter+=1\n",
    "  model.compile(\n",
    "      optimizer=keras.optimizers.Adam(\n",
    "          hp.Choice('learning rate',values=[1e-2,1e-3,1e-4])\n",
    "      ),\n",
    "\n",
    "      loss='mean_absolute_error',\n",
    "      # metrics=[r2_score]\n",
    "  )\n",
    "  return model"
   ]
  },
  {
   "cell_type": "code",
   "execution_count": 34,
   "metadata": {},
   "outputs": [
    {
     "name": "stdout",
     "output_type": "stream",
     "text": [
      "WARNING:tensorflow:From c:\\Users\\waghu\\anaconda3\\Lib\\site-packages\\keras\\src\\backend.py:873: The name tf.get_default_graph is deprecated. Please use tf.compat.v1.get_default_graph instead.\n",
      "\n"
     ]
    }
   ],
   "source": [
    "tunner = kt.RandomSearch(build_model,objective='val_loss',max_trials=10,directory='parameter_tunner',project_name='trial_frist')"
   ]
  },
  {
   "cell_type": "code",
   "execution_count": 35,
   "metadata": {},
   "outputs": [
    {
     "name": "stdout",
     "output_type": "stream",
     "text": [
      "Trial 10 Complete [00h 03m 21s]\n",
      "val_loss: 330.1454162597656\n",
      "\n",
      "Best val_loss So Far: 313.41973876953125\n",
      "Total elapsed time: 00h 22m 16s\n"
     ]
    }
   ],
   "source": [
    "tunner.search(X_train_scaled,y_train,epochs=4,validation_data=(X_test_scaled,y_test))"
   ]
  },
  {
   "cell_type": "code",
   "execution_count": 36,
   "metadata": {},
   "outputs": [
    {
     "name": "stdout",
     "output_type": "stream",
     "text": [
      "Results summary\n",
      "Results in parameter_tunner\\trial_frist\n",
      "Showing 10 best trials\n",
      "Objective(name=\"val_loss\", direction=\"min\")\n",
      "\n",
      "Trial 06 summary\n",
      "Hyperparameters:\n",
      "num_layers: 6\n",
      "units0: 192\n",
      "learning rate: 0.01\n",
      "units1: 416\n",
      "units2: 64\n",
      "units3: 32\n",
      "units4: 96\n",
      "units5: 352\n",
      "units6: 352\n",
      "units7: 256\n",
      "units8: 192\n",
      "units9: 256\n",
      "Score: 313.41973876953125\n",
      "\n",
      "Trial 04 summary\n",
      "Hyperparameters:\n",
      "num_layers: 10\n",
      "units0: 352\n",
      "learning rate: 0.001\n",
      "units1: 160\n",
      "units2: 128\n",
      "units3: 512\n",
      "units4: 416\n",
      "units5: 288\n",
      "units6: 288\n",
      "units7: 256\n",
      "units8: 448\n",
      "units9: 32\n",
      "Score: 315.5710754394531\n",
      "\n",
      "Trial 02 summary\n",
      "Hyperparameters:\n",
      "num_layers: 6\n",
      "units0: 64\n",
      "learning rate: 0.01\n",
      "units1: 96\n",
      "units2: 352\n",
      "units3: 32\n",
      "units4: 32\n",
      "units5: 32\n",
      "Score: 318.31640625\n",
      "\n",
      "Trial 08 summary\n",
      "Hyperparameters:\n",
      "num_layers: 8\n",
      "units0: 96\n",
      "learning rate: 0.0001\n",
      "units1: 256\n",
      "units2: 448\n",
      "units3: 352\n",
      "units4: 512\n",
      "units5: 256\n",
      "units6: 224\n",
      "units7: 480\n",
      "units8: 288\n",
      "units9: 352\n",
      "Score: 320.10357666015625\n",
      "\n",
      "Trial 03 summary\n",
      "Hyperparameters:\n",
      "num_layers: 9\n",
      "units0: 448\n",
      "learning rate: 0.0001\n",
      "units1: 320\n",
      "units2: 512\n",
      "units3: 32\n",
      "units4: 448\n",
      "units5: 320\n",
      "units6: 32\n",
      "units7: 32\n",
      "units8: 32\n",
      "Score: 322.2984313964844\n",
      "\n",
      "Trial 07 summary\n",
      "Hyperparameters:\n",
      "num_layers: 4\n",
      "units0: 352\n",
      "learning rate: 0.01\n",
      "units1: 512\n",
      "units2: 448\n",
      "units3: 128\n",
      "units4: 32\n",
      "units5: 512\n",
      "units6: 416\n",
      "units7: 224\n",
      "units8: 448\n",
      "units9: 160\n",
      "Score: 324.2281188964844\n",
      "\n",
      "Trial 09 summary\n",
      "Hyperparameters:\n",
      "num_layers: 8\n",
      "units0: 192\n",
      "learning rate: 0.01\n",
      "units1: 288\n",
      "units2: 512\n",
      "units3: 448\n",
      "units4: 448\n",
      "units5: 96\n",
      "units6: 512\n",
      "units7: 32\n",
      "units8: 512\n",
      "units9: 96\n",
      "Score: 330.1454162597656\n",
      "\n",
      "Trial 01 summary\n",
      "Hyperparameters:\n",
      "num_layers: 3\n",
      "units0: 320\n",
      "learning rate: 0.001\n",
      "units1: 32\n",
      "units2: 32\n",
      "Score: 334.5675048828125\n",
      "\n",
      "Trial 05 summary\n",
      "Hyperparameters:\n",
      "num_layers: 2\n",
      "units0: 288\n",
      "learning rate: 0.001\n",
      "units1: 480\n",
      "units2: 192\n",
      "units3: 192\n",
      "units4: 512\n",
      "units5: 288\n",
      "units6: 32\n",
      "units7: 224\n",
      "units8: 32\n",
      "units9: 128\n",
      "Score: 335.930908203125\n",
      "\n",
      "Trial 00 summary\n",
      "Hyperparameters:\n",
      "num_layers: 1\n",
      "units0: 384\n",
      "learning rate: 0.001\n",
      "Score: 412.2644958496094\n"
     ]
    }
   ],
   "source": [
    "tunner.results_summary()"
   ]
  },
  {
   "cell_type": "code",
   "execution_count": 37,
   "metadata": {},
   "outputs": [
    {
     "data": {
      "text/plain": [
       "{'num_layers': 6,\n",
       " 'units0': 192,\n",
       " 'learning rate': 0.01,\n",
       " 'units1': 416,\n",
       " 'units2': 64,\n",
       " 'units3': 32,\n",
       " 'units4': 96,\n",
       " 'units5': 352,\n",
       " 'units6': 352,\n",
       " 'units7': 256,\n",
       " 'units8': 192,\n",
       " 'units9': 256}"
      ]
     },
     "execution_count": 37,
     "metadata": {},
     "output_type": "execute_result"
    }
   ],
   "source": [
    "tunner.get_best_hyperparameters()[0].values"
   ]
  },
  {
   "cell_type": "code",
   "execution_count": 39,
   "metadata": {},
   "outputs": [],
   "source": [
    "model=tunner.get_best_models(num_models=1)[0]"
   ]
  },
  {
   "cell_type": "code",
   "execution_count": 40,
   "metadata": {},
   "outputs": [
    {
     "name": "stdout",
     "output_type": "stream",
     "text": [
      "Epoch 5/100\n",
      "4537/4537 [==============================] - 31s 6ms/step - loss: 339.4784 - val_loss: 322.3352\n",
      "Epoch 6/100\n",
      "4537/4537 [==============================] - 31s 7ms/step - loss: 335.0700 - val_loss: 311.7338\n",
      "Epoch 7/100\n",
      "4537/4537 [==============================] - 29s 6ms/step - loss: 329.4144 - val_loss: 309.4646\n",
      "Epoch 8/100\n",
      "4537/4537 [==============================] - 29s 6ms/step - loss: 327.1449 - val_loss: 338.4045\n",
      "Epoch 9/100\n",
      "4537/4537 [==============================] - 29s 6ms/step - loss: 323.9624 - val_loss: 424.7571\n",
      "Epoch 10/100\n",
      "4537/4537 [==============================] - 30s 7ms/step - loss: 324.2822 - val_loss: 305.3700\n",
      "Epoch 11/100\n",
      "4537/4537 [==============================] - 30s 7ms/step - loss: 320.8049 - val_loss: 311.3384\n",
      "Epoch 12/100\n",
      "4537/4537 [==============================] - 30s 7ms/step - loss: 320.3102 - val_loss: 343.2322\n",
      "Epoch 13/100\n",
      "4537/4537 [==============================] - 29s 6ms/step - loss: 317.3722 - val_loss: 333.7324\n",
      "Epoch 14/100\n",
      "4537/4537 [==============================] - 30s 7ms/step - loss: 316.9344 - val_loss: 303.1335\n",
      "Epoch 15/100\n",
      "4537/4537 [==============================] - 30s 7ms/step - loss: 316.3155 - val_loss: 305.4683\n",
      "Epoch 16/100\n",
      "4537/4537 [==============================] - 32s 7ms/step - loss: 315.6850 - val_loss: 325.2275\n",
      "Epoch 17/100\n",
      "4537/4537 [==============================] - 30s 7ms/step - loss: 315.9587 - val_loss: 301.0143\n",
      "Epoch 18/100\n",
      "4537/4537 [==============================] - 31s 7ms/step - loss: 314.4544 - val_loss: 307.4004\n",
      "Epoch 19/100\n",
      "4537/4537 [==============================] - 31s 7ms/step - loss: 313.9643 - val_loss: 305.7633\n",
      "Epoch 20/100\n",
      "4537/4537 [==============================] - 31s 7ms/step - loss: 312.2793 - val_loss: 364.8787\n",
      "Epoch 21/100\n",
      "4537/4537 [==============================] - 30s 7ms/step - loss: 313.2050 - val_loss: 314.4539\n",
      "Epoch 22/100\n",
      "4537/4537 [==============================] - 30s 7ms/step - loss: 312.7611 - val_loss: 346.6545\n",
      "Epoch 23/100\n",
      "4537/4537 [==============================] - 30s 7ms/step - loss: 311.8607 - val_loss: 310.6747\n",
      "Epoch 24/100\n",
      "4537/4537 [==============================] - 22s 5ms/step - loss: 311.7744 - val_loss: 324.1716\n",
      "Epoch 25/100\n",
      "4537/4537 [==============================] - 19s 4ms/step - loss: 310.8880 - val_loss: 306.1090\n",
      "Epoch 26/100\n",
      "4537/4537 [==============================] - 19s 4ms/step - loss: 310.4337 - val_loss: 319.3562\n",
      "Epoch 27/100\n",
      "4537/4537 [==============================] - 22s 5ms/step - loss: 311.5329 - val_loss: 312.5629\n",
      "Epoch 28/100\n",
      "4537/4537 [==============================] - 23s 5ms/step - loss: 309.9136 - val_loss: 308.1070\n",
      "Epoch 29/100\n",
      "4537/4537 [==============================] - 27s 6ms/step - loss: 309.7638 - val_loss: 300.3841\n",
      "Epoch 30/100\n",
      "4537/4537 [==============================] - 27s 6ms/step - loss: 310.2961 - val_loss: 310.6330\n",
      "Epoch 31/100\n",
      "4537/4537 [==============================] - 27s 6ms/step - loss: 308.9176 - val_loss: 298.5616\n",
      "Epoch 32/100\n",
      "4537/4537 [==============================] - 27s 6ms/step - loss: 309.1252 - val_loss: 303.0850\n",
      "Epoch 33/100\n",
      "4537/4537 [==============================] - 29s 6ms/step - loss: 310.1744 - val_loss: 298.6865\n",
      "Epoch 34/100\n",
      "4537/4537 [==============================] - 27s 6ms/step - loss: 310.1157 - val_loss: 344.6170\n",
      "Epoch 35/100\n",
      "4537/4537 [==============================] - 25s 6ms/step - loss: 309.7090 - val_loss: 305.3783\n",
      "Epoch 36/100\n",
      "4537/4537 [==============================] - 24s 5ms/step - loss: 309.7461 - val_loss: 330.7533\n",
      "Epoch 37/100\n",
      "4537/4537 [==============================] - 25s 5ms/step - loss: 308.6529 - val_loss: 311.3215\n",
      "Epoch 38/100\n",
      "4537/4537 [==============================] - 25s 6ms/step - loss: 308.7478 - val_loss: 336.2969\n",
      "Epoch 39/100\n",
      "4537/4537 [==============================] - 23s 5ms/step - loss: 307.6434 - val_loss: 334.9369\n",
      "Epoch 40/100\n",
      "4537/4537 [==============================] - 15s 3ms/step - loss: 308.6888 - val_loss: 301.1143\n",
      "Epoch 41/100\n",
      "4537/4537 [==============================] - 15s 3ms/step - loss: 307.5807 - val_loss: 306.7516\n",
      "Epoch 42/100\n",
      "4537/4537 [==============================] - 14s 3ms/step - loss: 307.8772 - val_loss: 313.1908\n",
      "Epoch 43/100\n",
      "4537/4537 [==============================] - 14s 3ms/step - loss: 307.2548 - val_loss: 300.2180\n",
      "Epoch 44/100\n",
      "4537/4537 [==============================] - 14s 3ms/step - loss: 306.9019 - val_loss: 303.5844\n",
      "Epoch 45/100\n",
      "4537/4537 [==============================] - 13s 3ms/step - loss: 307.4844 - val_loss: 339.5050\n",
      "Epoch 46/100\n",
      "4537/4537 [==============================] - 14s 3ms/step - loss: 308.2355 - val_loss: 319.9401\n",
      "Epoch 47/100\n",
      "4537/4537 [==============================] - 13s 3ms/step - loss: 307.1653 - val_loss: 301.5110\n",
      "Epoch 48/100\n",
      "4537/4537 [==============================] - 14s 3ms/step - loss: 306.4714 - val_loss: 297.2562\n",
      "Epoch 49/100\n",
      "4537/4537 [==============================] - 14s 3ms/step - loss: 307.5425 - val_loss: 316.6061\n",
      "Epoch 50/100\n",
      "4537/4537 [==============================] - 14s 3ms/step - loss: 306.7098 - val_loss: 298.0786\n",
      "Epoch 51/100\n",
      "4537/4537 [==============================] - 14s 3ms/step - loss: 306.4343 - val_loss: 302.3203\n",
      "Epoch 52/100\n",
      "4537/4537 [==============================] - 14s 3ms/step - loss: 305.8131 - val_loss: 317.6582\n",
      "Epoch 53/100\n",
      "4537/4537 [==============================] - 14s 3ms/step - loss: 306.0023 - val_loss: 296.3459\n",
      "Epoch 54/100\n",
      "4537/4537 [==============================] - 14s 3ms/step - loss: 306.0200 - val_loss: 301.7313\n",
      "Epoch 55/100\n",
      "4537/4537 [==============================] - 14s 3ms/step - loss: 305.7949 - val_loss: 337.6235\n",
      "Epoch 56/100\n",
      "4537/4537 [==============================] - 15s 3ms/step - loss: 306.5731 - val_loss: 302.7598\n",
      "Epoch 57/100\n",
      "4537/4537 [==============================] - 16s 3ms/step - loss: 305.7622 - val_loss: 323.2418\n",
      "Epoch 58/100\n",
      "4537/4537 [==============================] - 15s 3ms/step - loss: 305.8926 - val_loss: 298.8692\n",
      "Epoch 59/100\n",
      "4537/4537 [==============================] - 16s 3ms/step - loss: 305.3073 - val_loss: 299.1707\n",
      "Epoch 60/100\n",
      "4537/4537 [==============================] - 15s 3ms/step - loss: 305.8726 - val_loss: 347.0978\n",
      "Epoch 61/100\n",
      "4537/4537 [==============================] - 15s 3ms/step - loss: 305.6676 - val_loss: 304.6697\n",
      "Epoch 62/100\n",
      "4537/4537 [==============================] - 15s 3ms/step - loss: 304.8842 - val_loss: 298.3241\n",
      "Epoch 63/100\n",
      "4537/4537 [==============================] - 15s 3ms/step - loss: 304.9543 - val_loss: 297.6848\n",
      "Epoch 64/100\n",
      "4537/4537 [==============================] - 15s 3ms/step - loss: 305.4967 - val_loss: 313.6280\n",
      "Epoch 65/100\n",
      "4537/4537 [==============================] - 15s 3ms/step - loss: 304.8445 - val_loss: 299.1294\n",
      "Epoch 66/100\n",
      "4537/4537 [==============================] - 14s 3ms/step - loss: 304.6851 - val_loss: 305.6339\n",
      "Epoch 67/100\n",
      "4537/4537 [==============================] - 14s 3ms/step - loss: 304.4316 - val_loss: 305.4065\n",
      "Epoch 68/100\n",
      "4537/4537 [==============================] - 15s 3ms/step - loss: 303.9792 - val_loss: 299.4344\n",
      "Epoch 69/100\n",
      "4537/4537 [==============================] - 15s 3ms/step - loss: 305.4043 - val_loss: 319.3466\n",
      "Epoch 70/100\n",
      "4537/4537 [==============================] - 16s 4ms/step - loss: 303.9266 - val_loss: 299.0628\n",
      "Epoch 71/100\n",
      "4537/4537 [==============================] - 17s 4ms/step - loss: 304.4085 - val_loss: 310.7949\n",
      "Epoch 72/100\n",
      "4537/4537 [==============================] - 16s 4ms/step - loss: 304.2527 - val_loss: 325.8135\n",
      "Epoch 73/100\n",
      "4537/4537 [==============================] - 17s 4ms/step - loss: 303.9171 - val_loss: 310.7863\n",
      "Epoch 74/100\n",
      "4537/4537 [==============================] - 17s 4ms/step - loss: 303.6179 - val_loss: 297.1147\n",
      "Epoch 75/100\n",
      "4537/4537 [==============================] - 19s 4ms/step - loss: 304.6041 - val_loss: 301.5160\n",
      "Epoch 76/100\n",
      "4537/4537 [==============================] - 20s 4ms/step - loss: 303.3567 - val_loss: 302.6913\n",
      "Epoch 77/100\n",
      "4537/4537 [==============================] - 19s 4ms/step - loss: 303.9047 - val_loss: 302.3878\n",
      "Epoch 78/100\n",
      "4537/4537 [==============================] - 19s 4ms/step - loss: 302.7194 - val_loss: 300.5273\n",
      "Epoch 79/100\n",
      "4537/4537 [==============================] - 17s 4ms/step - loss: 303.1382 - val_loss: 301.8344\n",
      "Epoch 80/100\n",
      "4537/4537 [==============================] - 17s 4ms/step - loss: 303.6501 - val_loss: 299.9536\n",
      "Epoch 81/100\n",
      "4537/4537 [==============================] - 16s 4ms/step - loss: 303.6598 - val_loss: 298.1429\n",
      "Epoch 82/100\n",
      "4537/4537 [==============================] - 17s 4ms/step - loss: 303.2994 - val_loss: 301.2995\n",
      "Epoch 83/100\n",
      "4537/4537 [==============================] - 18s 4ms/step - loss: 303.7726 - val_loss: 300.3622\n",
      "Epoch 84/100\n",
      "4537/4537 [==============================] - 21s 5ms/step - loss: 302.6413 - val_loss: 304.8186\n",
      "Epoch 85/100\n",
      "4537/4537 [==============================] - 18s 4ms/step - loss: 303.5266 - val_loss: 307.7556\n",
      "Epoch 86/100\n",
      "4537/4537 [==============================] - 17s 4ms/step - loss: 303.5128 - val_loss: 306.2256\n",
      "Epoch 87/100\n",
      "4537/4537 [==============================] - 24s 5ms/step - loss: 304.3278 - val_loss: 311.9271\n",
      "Epoch 88/100\n",
      "4537/4537 [==============================] - 28s 6ms/step - loss: 302.3999 - val_loss: 298.7126\n",
      "Epoch 89/100\n",
      "4537/4537 [==============================] - 27s 6ms/step - loss: 302.7189 - val_loss: 297.9787\n",
      "Epoch 90/100\n",
      "4537/4537 [==============================] - 26s 6ms/step - loss: 302.8293 - val_loss: 295.8784\n",
      "Epoch 91/100\n",
      "4537/4537 [==============================] - 27s 6ms/step - loss: 302.0103 - val_loss: 297.2539\n",
      "Epoch 92/100\n",
      "4537/4537 [==============================] - 29s 6ms/step - loss: 302.7776 - val_loss: 312.8567\n",
      "Epoch 93/100\n",
      "4537/4537 [==============================] - 30s 7ms/step - loss: 302.4775 - val_loss: 304.9441\n",
      "Epoch 94/100\n",
      "4537/4537 [==============================] - 30s 7ms/step - loss: 302.6968 - val_loss: 299.2081\n",
      "Epoch 95/100\n",
      "4537/4537 [==============================] - 28s 6ms/step - loss: 303.3217 - val_loss: 296.1026\n",
      "Epoch 96/100\n",
      "4537/4537 [==============================] - 27s 6ms/step - loss: 302.3927 - val_loss: 329.1512\n",
      "Epoch 97/100\n",
      "4537/4537 [==============================] - 27s 6ms/step - loss: 302.5377 - val_loss: 298.3642\n",
      "Epoch 98/100\n",
      "4537/4537 [==============================] - 26s 6ms/step - loss: 302.4148 - val_loss: 295.9115\n",
      "Epoch 99/100\n",
      "4537/4537 [==============================] - 25s 5ms/step - loss: 302.8736 - val_loss: 299.3477\n",
      "Epoch 100/100\n",
      "4537/4537 [==============================] - 26s 6ms/step - loss: 302.6409 - val_loss: 296.0506\n"
     ]
    },
    {
     "data": {
      "text/plain": [
       "<keras.src.callbacks.History at 0x1ed8dc33350>"
      ]
     },
     "execution_count": 40,
     "metadata": {},
     "output_type": "execute_result"
    }
   ],
   "source": [
    "model.fit(X_train_scaled,y_train,initial_epoch=4,epochs=100,validation_data=(X_test_scaled,y_test))"
   ]
  },
  {
   "cell_type": "code",
   "execution_count": 41,
   "metadata": {},
   "outputs": [
    {
     "name": "stdout",
     "output_type": "stream",
     "text": [
      "1513/1513 [==============================] - 3s 2ms/step\n"
     ]
    }
   ],
   "source": [
    "y_pred=model.predict(X_test_scaled)"
   ]
  },
  {
   "cell_type": "code",
   "execution_count": 46,
   "metadata": {},
   "outputs": [
    {
     "name": "stdout",
     "output_type": "stream",
     "text": [
      "Model Performance\n",
      "mean squared error :  337559.49044405937\n",
      "Root mean squared error :  580.9987008970496\n",
      "Mean absolute error :  296.0504586713671\n",
      "R2 score :  97.89723855909546\n"
     ]
    }
   ],
   "source": [
    "mae,rmse,r2_s,mse=evaluate_model(y_test,y_pred)\n",
    "print(\"Model Performance\")\n",
    "print(\"mean squared error : \",mse)\n",
    "print(\"Root mean squared error : \",rmse)\n",
    "print(\"Mean absolute error : \",mae)\n",
    "print(\"R2 score : \",r2_s*100)"
   ]
  },
  {
   "cell_type": "code",
   "execution_count": 68,
   "metadata": {},
   "outputs": [
    {
     "name": "stdout",
     "output_type": "stream",
     "text": [
      "1/1 [==============================] - 0s 21ms/step\n"
     ]
    },
    {
     "data": {
      "text/plain": [
       "array([[728.7409]], dtype=float32)"
      ]
     },
     "execution_count": 68,
     "metadata": {},
     "output_type": "execute_result"
    }
   ],
   "source": [
    "model.predict(X_test_scaled[1].reshape(1,9))"
   ]
  },
  {
   "cell_type": "code",
   "execution_count": 69,
   "metadata": {},
   "outputs": [
    {
     "data": {
      "text/plain": [
       "673"
      ]
     },
     "execution_count": 69,
     "metadata": {},
     "output_type": "execute_result"
    }
   ],
   "source": [
    "y_test.iloc[1]"
   ]
  },
  {
   "cell_type": "code",
   "execution_count": 62,
   "metadata": {},
   "outputs": [
    {
     "data": {
      "text/plain": [
       "array([[-0.82202463,  0.87407377, -0.9350129 ,  2.01530754, -0.57277401,\n",
       "        -0.64016894, -0.84234465, -0.81588071, -0.86041745]])"
      ]
     },
     "execution_count": 62,
     "metadata": {},
     "output_type": "execute_result"
    }
   ],
   "source": [
    "X_test_scaled[20].reshape(1,9)"
   ]
  },
  {
   "cell_type": "code",
   "execution_count": null,
   "metadata": {},
   "outputs": [],
   "source": []
  }
 ],
 "metadata": {
  "kernelspec": {
   "display_name": "myenv",
   "language": "python",
   "name": "myenv"
  },
  "language_info": {
   "codemirror_mode": {
    "name": "ipython",
    "version": 3
   },
   "file_extension": ".py",
   "mimetype": "text/x-python",
   "name": "python",
   "nbconvert_exporter": "python",
   "pygments_lexer": "ipython3",
   "version": "3.11.5"
  }
 },
 "nbformat": 4,
 "nbformat_minor": 2
}
